{
  "cells": [
    {
      "cell_type": "markdown",
      "metadata": {
        "id": "view-in-github",
        "colab_type": "text"
      },
      "source": [
        "<a href=\"https://colab.research.google.com/github/PedroTechy/DataProcessingEdit/blob/main/spark_streaming/examples/2-checkpoint.ipynb\" target=\"_parent\"><img src=\"https://colab.research.google.com/assets/colab-badge.svg\" alt=\"Open In Colab\"/></a>"
      ]
    },
    {
      "cell_type": "markdown",
      "metadata": {
        "id": "4_GBE9UsyxwK"
      },
      "source": []
    },
    {
      "cell_type": "markdown",
      "metadata": {
        "id": "BOA_wQSmLd9z"
      },
      "source": [
        "# Checkpoint"
      ]
    },
    {
      "cell_type": "markdown",
      "metadata": {
        "id": "d9LeYFsPTjAb"
      },
      "source": [
        "# Setting up PySpark"
      ]
    },
    {
      "cell_type": "code",
      "execution_count": 1,
      "metadata": {
        "colab": {
          "base_uri": "https://localhost:8080/"
        },
        "id": "uYXeODL0T1fO",
        "outputId": "c7c15d9a-e200-4fd2-85ba-3f68b0cd7716"
      },
      "outputs": [
        {
          "output_type": "stream",
          "name": "stdout",
          "text": [
            "Requirement already satisfied: pyspark in /usr/local/lib/python3.10/dist-packages (3.5.3)\n",
            "Requirement already satisfied: py4j==0.10.9.7 in /usr/local/lib/python3.10/dist-packages (from pyspark) (0.10.9.7)\n"
          ]
        }
      ],
      "source": [
        "%pip install pyspark"
      ]
    },
    {
      "cell_type": "code",
      "execution_count": 2,
      "metadata": {
        "id": "637HFw00T3LP"
      },
      "outputs": [],
      "source": [
        "from pyspark.sql import SparkSession\n",
        "\n",
        "spark = SparkSession.builder.master('local').appName('Test streaming').getOrCreate()"
      ]
    },
    {
      "cell_type": "code",
      "source": [
        "!rm -rf content/input/*\n",
        "!rm -rf content/output/*\n",
        "!rm -rf content/checkpoint/*"
      ],
      "metadata": {
        "id": "Wx-vNUM9eWjh"
      },
      "execution_count": 3,
      "outputs": []
    },
    {
      "cell_type": "code",
      "source": [
        "from datetime import datetime\n",
        "import csv\n",
        "\n",
        "def generate_file():\n",
        "  timestamp = datetime.now().strftime(\"%Y%m%d%H%M%S\")\n",
        "  filename = f\"content/input/file_{timestamp}.csv\"\n",
        "  with open(filename, 'w', newline='') as csvfile:\n",
        "      fieldnames = ['col', 'value', 'file']\n",
        "      writer = csv.DictWriter(csvfile, fieldnames=fieldnames, delimiter=\";\")\n",
        "      writer.writeheader()\n",
        "      writer.writerow({'col': 'c1', 'value': 'v1', 'file': filename})\n",
        "      writer.writerow({'col': 'c2', 'value': 'v2', 'file': filename})\n",
        "      writer.writerow({'col': 'c3', 'value': 'v3', 'file': filename})\n",
        "\n",
        "!mkdir -p content/input"
      ],
      "metadata": {
        "id": "8-4gd_2WWDZI"
      },
      "execution_count": 4,
      "outputs": []
    },
    {
      "cell_type": "code",
      "source": [
        "generate_file()"
      ],
      "metadata": {
        "id": "F2oCKEUXXSR-"
      },
      "execution_count": 6,
      "outputs": []
    },
    {
      "cell_type": "code",
      "source": [
        "spark.read.format(\"csv\").option(\"sep\", \";\").option(\"header\", True).load(\"content/input/\").show(100, False)"
      ],
      "metadata": {
        "id": "yBPux6iaagTL",
        "outputId": "7206002d-974a-461a-c765-477399728443",
        "colab": {
          "base_uri": "https://localhost:8080/"
        }
      },
      "execution_count": 7,
      "outputs": [
        {
          "output_type": "stream",
          "name": "stdout",
          "text": [
            "+---+-----+-------------------------------------+\n",
            "|col|value|file                                 |\n",
            "+---+-----+-------------------------------------+\n",
            "|c1 |v1   |content/input/file_20241123143435.csv|\n",
            "|c2 |v2   |content/input/file_20241123143435.csv|\n",
            "|c3 |v3   |content/input/file_20241123143435.csv|\n",
            "+---+-----+-------------------------------------+\n",
            "\n"
          ]
        }
      ]
    },
    {
      "cell_type": "code",
      "source": [
        "generate_file() #each time i run this it adds a new csv, simulating the arrival of data in our server"
      ],
      "metadata": {
        "id": "c7dnv0_pcuhb"
      },
      "execution_count": 10,
      "outputs": []
    },
    {
      "cell_type": "code",
      "source": [
        "from pyspark.sql.types import *\n",
        "\n",
        "schema = StructType([\n",
        "StructField('Col',StringType(),True),\n",
        "StructField('Value',StringType(),True),\n",
        "StructField('File',StringType(),True)\n",
        "])\n",
        "\n",
        "stream = spark.readStream.format('csv').schema(schema).option(\"sep\", \";\").option('header', True).load('content/input/')"
      ],
      "metadata": {
        "id": "dEpmqZ2-XUvI"
      },
      "execution_count": 11,
      "outputs": []
    },
    {
      "cell_type": "code",
      "source": [
        "query = (stream.writeStream\n",
        ".format('csv')\n",
        ".option(\"header\", True)\n",
        ".queryName(\"stream\")\n",
        ".option('checkpointLocation', 'content/checkpoint')\n",
        ".option('path', 'content/output')\n",
        ".trigger(processingTime='5 seconds')\n",
        ".outputMode('append')\n",
        ".start()\n",
        ")"
      ],
      "metadata": {
        "id": "1C2h4x86ZuUl"
      },
      "execution_count": 12,
      "outputs": []
    },
    {
      "cell_type": "code",
      "source": [
        "stream.isStreaming"
      ],
      "metadata": {
        "id": "toR-6tYEc-ls",
        "outputId": "4424cf8d-59cc-4550-be16-06120c1937aa",
        "colab": {
          "base_uri": "https://localhost:8080/"
        }
      },
      "execution_count": 15,
      "outputs": [
        {
          "output_type": "execute_result",
          "data": {
            "text/plain": [
              "True"
            ]
          },
          "metadata": {},
          "execution_count": 15
        }
      ]
    },
    {
      "cell_type": "code",
      "source": [
        "print(spark.read.csv('content/output', header=True, sep=\";\").count())\n",
        "spark.read.csv('content/output', header=True, sep=\",\").show(100, False)"
      ],
      "metadata": {
        "id": "ZTZYvbd7bQXO",
        "outputId": "a8ad9d87-b9b0-4290-ae27-5b7afb2ee066",
        "colab": {
          "base_uri": "https://localhost:8080/"
        }
      },
      "execution_count": 17,
      "outputs": [
        {
          "output_type": "stream",
          "name": "stdout",
          "text": [
            "12\n",
            "+---+-----+-------------------------------------+\n",
            "|Col|Value|File                                 |\n",
            "+---+-----+-------------------------------------+\n",
            "|c1 |v1   |content/input/file_20241123143435.csv|\n",
            "|c2 |v2   |content/input/file_20241123143435.csv|\n",
            "|c3 |v3   |content/input/file_20241123143435.csv|\n",
            "|c1 |v1   |content/input/file_20241123143527.csv|\n",
            "|c2 |v2   |content/input/file_20241123143527.csv|\n",
            "|c3 |v3   |content/input/file_20241123143527.csv|\n",
            "|c1 |v1   |content/input/file_20241123143529.csv|\n",
            "|c2 |v2   |content/input/file_20241123143529.csv|\n",
            "|c3 |v3   |content/input/file_20241123143529.csv|\n",
            "|c1 |v1   |content/input/file_20241123143530.csv|\n",
            "|c2 |v2   |content/input/file_20241123143530.csv|\n",
            "|c3 |v3   |content/input/file_20241123143530.csv|\n",
            "+---+-----+-------------------------------------+\n",
            "\n"
          ]
        }
      ]
    },
    {
      "cell_type": "code",
      "source": [
        "query.stop()"
      ],
      "metadata": {
        "id": "uzQLfia6b1DM"
      },
      "execution_count": 18,
      "outputs": []
    },
    {
      "cell_type": "code",
      "source": [
        "query.isActive"
      ],
      "metadata": {
        "id": "pV_rix5FeNQN",
        "outputId": "24cc5767-4b1a-497e-a64b-16dbab1c70b7",
        "colab": {
          "base_uri": "https://localhost:8080/"
        }
      },
      "execution_count": 19,
      "outputs": [
        {
          "output_type": "execute_result",
          "data": {
            "text/plain": [
              "False"
            ]
          },
          "metadata": {},
          "execution_count": 19
        }
      ]
    },
    {
      "cell_type": "code",
      "source": [],
      "metadata": {
        "id": "5U4HQbNceqX_"
      },
      "execution_count": null,
      "outputs": []
    }
  ],
  "metadata": {
    "colab": {
      "provenance": [],
      "include_colab_link": true
    },
    "kernelspec": {
      "display_name": "Python 3",
      "name": "python3"
    },
    "language_info": {
      "name": "python"
    }
  },
  "nbformat": 4,
  "nbformat_minor": 0
}