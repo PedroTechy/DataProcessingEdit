{
  "cells": [
    {
      "cell_type": "markdown",
      "metadata": {
        "id": "view-in-github",
        "colab_type": "text"
      },
      "source": [
        "<a href=\"https://colab.research.google.com/github/PedroTechy/DataProcessingEdit/blob/main/spark_streaming/final_challenges.ipynb\" target=\"_parent\"><img src=\"https://colab.research.google.com/assets/colab-badge.svg\" alt=\"Open In Colab\"/></a>"
      ]
    },
    {
      "cell_type": "markdown",
      "metadata": {
        "id": "4_GBE9UsyxwK"
      },
      "source": []
    },
    {
      "cell_type": "markdown",
      "metadata": {
        "id": "d9LeYFsPTjAb"
      },
      "source": [
        "# Setting up PySpark"
      ]
    },
    {
      "cell_type": "code",
      "source": [
        "#!rm -rf /content/content\n",
        "!rm -rf /content/lake/silver"
      ],
      "metadata": {
        "id": "yYUn0eP80k8h"
      },
      "execution_count": 85,
      "outputs": []
    },
    {
      "cell_type": "code",
      "execution_count": 22,
      "metadata": {
        "colab": {
          "base_uri": "https://localhost:8080/"
        },
        "id": "uYXeODL0T1fO",
        "outputId": "ec62e307-19bf-47e0-9c2f-74ec3a14e40f"
      },
      "outputs": [
        {
          "output_type": "stream",
          "name": "stdout",
          "text": [
            "Requirement already satisfied: pyspark in /usr/local/lib/python3.10/dist-packages (3.5.3)\n",
            "Requirement already satisfied: py4j==0.10.9.7 in /usr/local/lib/python3.10/dist-packages (from pyspark) (0.10.9.7)\n"
          ]
        }
      ],
      "source": [
        "%pip install pyspark"
      ]
    },
    {
      "cell_type": "markdown",
      "metadata": {
        "id": "Rcybt71kTDNt"
      },
      "source": [
        "# Context\n",
        "Message events are coming from platform message broker (kafka, pubsub, kinesis...).\n",
        "You need to process the data according to the requirements.\n",
        "\n",
        "Message schema:\n",
        "- timestamp\n",
        "- value\n",
        "- event_type\n",
        "- message_id\n",
        "- country_id\n",
        "- user_id\n",
        "\n"
      ]
    },
    {
      "cell_type": "markdown",
      "metadata": {
        "id": "JkyPORKNSYvV"
      },
      "source": [
        "# Challenge 1\n",
        "\n",
        "Step 1\n",
        "- Change exising producer\n",
        "\t- Change parquet location to \"/content/lake/bronze/messages/data\"\n",
        "\t- Add checkpoint (/content/lake/bronze/messages/checkpoint)\n",
        "\t- Delete /content/lake/bronze/messages and reprocess data\n",
        "\t- For reprocessing, run the streaming for at least 1 minute, then stop it\n",
        "\n",
        "Step 2\n",
        "- Implement new stream job to read from messages in bronze layer and split result in two locations\n",
        "\t- \"messages_corrupted\"\n",
        "\t\t- logic: event_status is null, empty or equal to \"NONE\"\n",
        "    - extra logic: add country name by joining message with countries dataset\n",
        "\t\t- partition by \"date\" -extract it from timestamp\n",
        "\t\t- location: /content/lake/silver/messages_corrupted/data\n",
        "\n",
        "\t- \"messages\"\n",
        "\t\t- logic: not corrupted data\n",
        "\t\t- extra logic: add country name by joining message with countries dataset\n",
        "\t\t- partition by \"date\" -extract it from timestamp\n",
        "\t\t- location: /content/lake/silver/messages/data\n",
        "\n",
        "\t- technical requirements\n",
        "\t\t- add checkpint (choose location)\n",
        "\t\t- use StructSchema\n",
        "\t\t- Set trigger interval to 5 seconds\n",
        "\t\t- run streaming for at least 20 seconds, then stop it\n",
        "\n",
        "\t- alternatives\n",
        "\t\t- implementing single streaming job with foreach/- foreachBatch logic to write into two locations\n",
        "\t\t- implementing two streaming jobs, one for messages and another for messages_corrupted\n",
        "\t\t- (paying attention on the paths and checkpoints)\n",
        "\n",
        "\n",
        "  - Check results:\n",
        "    - results from messages in bronze layer should match with the sum of messages+messages_corrupted in the silver layer"
      ]
    },
    {
      "cell_type": "code",
      "execution_count": 24,
      "metadata": {
        "colab": {
          "base_uri": "https://localhost:8080/"
        },
        "id": "Udk3tohSaXOH",
        "outputId": "0c5a9aa9-1bd3-41b4-d1fd-3807b5d66852"
      },
      "outputs": [
        {
          "output_type": "stream",
          "name": "stdout",
          "text": [
            "Requirement already satisfied: faker in /usr/local/lib/python3.10/dist-packages (33.1.0)\n",
            "Requirement already satisfied: python-dateutil>=2.4 in /usr/local/lib/python3.10/dist-packages (from faker) (2.8.2)\n",
            "Requirement already satisfied: typing-extensions in /usr/local/lib/python3.10/dist-packages (from faker) (4.12.2)\n",
            "Requirement already satisfied: six>=1.5 in /usr/local/lib/python3.10/dist-packages (from python-dateutil>=2.4->faker) (1.16.0)\n"
          ]
        }
      ],
      "source": [
        "%pip install faker"
      ]
    },
    {
      "cell_type": "markdown",
      "metadata": {
        "id": "cDGMKwBdi1qy"
      },
      "source": [
        "# Producer"
      ]
    },
    {
      "cell_type": "code",
      "execution_count": 70,
      "metadata": {
        "colab": {
          "base_uri": "https://localhost:8080/"
        },
        "id": "tPCOdivrfhYh",
        "outputId": "64557227-5458-4e48-c335-169dda4f086f"
      },
      "outputs": [
        {
          "output_type": "execute_result",
          "data": {
            "text/plain": [
              "False"
            ]
          },
          "metadata": {},
          "execution_count": 70
        }
      ],
      "source": [
        "import pyspark.sql.functions as F\n",
        "from pyspark.sql import DataFrame\n",
        "from faker import Faker\n",
        "from pyspark.sql import SparkSession\n",
        "\n",
        "spark = SparkSession.builder.appName('Test streaming').getOrCreate()\n",
        "sc = spark.sparkContext\n",
        "\n",
        "fake = Faker()\n",
        "messages = [fake.uuid4() for _ in range(50)]\n",
        "\n",
        "def enrich_data(df, messages=messages):\n",
        "  fake = Faker()\n",
        "  new_columns = {\n",
        "      'event_type': F.lit(fake.random_element(elements=('OPEN', 'RECEIVED', 'SENT', 'CREATED', 'CLICKED', '', 'NONE'))),\n",
        "      'message_id': F.lit(fake.random_element(elements=messages)),\n",
        "      'channel': F.lit(fake.random_element(elements=('CHAT', 'EMAIL', 'SMS', 'PUSH', 'OTHER'))),\n",
        "      'country_id': F.lit(fake.random_int(min=2000, max=2015)),\n",
        "      'user_id': F.lit(fake.random_int(min=1000, max=1050)),\n",
        "  }\n",
        "  df = df.withColumns(new_columns)\n",
        "  return df\n",
        "\n",
        "def insert_messages(df: DataFrame, batch_id):\n",
        "  enrich = enrich_data(df)\n",
        "  enrich.write.mode(\"append\").format(\"parquet\").save(\"/content/lake/bronze/messages/data\")\n",
        "\n",
        "# read stream\n",
        "df_stream = spark.readStream.format(\"rate\").option(\"rowsPerSecond\", 1).load()\n",
        "\n",
        "# write stream\n",
        "query = (df_stream.writeStream\n",
        ".outputMode('append')\n",
        ".trigger(processingTime='1 seconds')\n",
        ".foreachBatch(insert_messages)\n",
        ".option('checkpointLocation', '/content/lake/bronze/messages/checkpoint')\n",
        ".start()\n",
        ")\n",
        "\n",
        "query.awaitTermination(60)\n"
      ]
    },
    {
      "cell_type": "code",
      "execution_count": null,
      "metadata": {
        "id": "KNyUK3yplDhg"
      },
      "outputs": [],
      "source": [
        "query.stop()"
      ]
    },
    {
      "cell_type": "code",
      "execution_count": 84,
      "metadata": {
        "id": "ZWQExsnzlMFe",
        "outputId": "adcc2b47-f1bf-442a-ab31-41c43663d498",
        "colab": {
          "base_uri": "https://localhost:8080/"
        }
      },
      "outputs": [
        {
          "output_type": "stream",
          "name": "stdout",
          "text": [
            "+--------------------+-----+----------+--------------------+-------+----------+-------+\n",
            "|           timestamp|value|event_type|          message_id|channel|country_id|user_id|\n",
            "+--------------------+-----+----------+--------------------+-------+----------+-------+\n",
            "|2024-12-10 23:08:...|   97|      SENT|73c8ac47-1c78-441...|  EMAIL|      2006|   1018|\n",
            "|2024-12-10 23:08:...|   99|      SENT|73c8ac47-1c78-441...|  EMAIL|      2006|   1018|\n",
            "|2024-12-10 23:08:...|  101|      SENT|73c8ac47-1c78-441...|  EMAIL|      2006|   1018|\n",
            "|2024-12-10 23:08:...|  103|      SENT|73c8ac47-1c78-441...|  EMAIL|      2006|   1018|\n",
            "|2024-12-10 23:08:...|  105|      SENT|73c8ac47-1c78-441...|  EMAIL|      2006|   1018|\n",
            "|2024-12-10 23:08:...|  107|      SENT|73c8ac47-1c78-441...|  EMAIL|      2006|   1018|\n",
            "|2024-12-10 23:08:...|  109|      SENT|73c8ac47-1c78-441...|  EMAIL|      2006|   1018|\n",
            "|2024-12-10 23:08:...|  111|      SENT|73c8ac47-1c78-441...|  EMAIL|      2006|   1018|\n",
            "|2024-12-10 23:08:...|  113|      SENT|73c8ac47-1c78-441...|  EMAIL|      2006|   1018|\n",
            "|2024-12-10 23:08:...|  115|      SENT|73c8ac47-1c78-441...|  EMAIL|      2006|   1018|\n",
            "|2024-12-10 23:08:...|  117|      SENT|73c8ac47-1c78-441...|  EMAIL|      2006|   1018|\n",
            "|2024-12-10 23:08:...|  119|      SENT|73c8ac47-1c78-441...|  EMAIL|      2006|   1018|\n",
            "|2024-12-10 23:08:...|  121|      SENT|73c8ac47-1c78-441...|  EMAIL|      2006|   1018|\n",
            "|2024-12-10 23:08:...|  123|      SENT|73c8ac47-1c78-441...|  EMAIL|      2006|   1018|\n",
            "|2024-12-10 23:08:...|  125|      SENT|73c8ac47-1c78-441...|  EMAIL|      2006|   1018|\n",
            "|2024-12-10 23:08:...|  127|      SENT|73c8ac47-1c78-441...|  EMAIL|      2006|   1018|\n",
            "|2024-12-10 23:08:...|  129|      SENT|73c8ac47-1c78-441...|  EMAIL|      2006|   1018|\n",
            "|2024-12-10 23:08:...|  131|      SENT|73c8ac47-1c78-441...|  EMAIL|      2006|   1018|\n",
            "|2024-12-10 23:08:...|  133|      SENT|73c8ac47-1c78-441...|  EMAIL|      2006|   1018|\n",
            "|2024-12-10 23:08:...|  135|      SENT|73c8ac47-1c78-441...|  EMAIL|      2006|   1018|\n",
            "+--------------------+-----+----------+--------------------+-------+----------+-------+\n",
            "only showing top 20 rows\n",
            "\n"
          ]
        }
      ],
      "source": [
        "df = spark.read.format(\"parquet\").load(\"/content/lake/bronze/messages/data\")\n",
        "#df.show() #usefull to visualize the data and understand the schema\n",
        "\n",
        "# some data exploration to be able to do step 2\n",
        "df.show()\n"
      ]
    },
    {
      "cell_type": "markdown",
      "metadata": {
        "id": "RraxHCycMdEZ"
      },
      "source": [
        "# Additional datasets"
      ]
    },
    {
      "cell_type": "code",
      "execution_count": 28,
      "metadata": {
        "id": "cfsus3dxMcQI"
      },
      "outputs": [],
      "source": [
        "countries = [\n",
        "    {\"country_id\": 2000, \"country\": \"Brazil\"},\n",
        "    {\"country_id\": 2001, \"country\": \"Portugal\"},\n",
        "    {\"country_id\": 2002, \"country\": \"Spain\"},\n",
        "    {\"country_id\": 2003, \"country\": \"Germany\"},\n",
        "    {\"country_id\": 2004, \"country\": \"France\"},\n",
        "    {\"country_id\": 2005, \"country\": \"Italy\"},\n",
        "    {\"country_id\": 2006, \"country\": \"United Kingdom\"},\n",
        "    {\"country_id\": 2007, \"country\": \"United States\"},\n",
        "    {\"country_id\": 2008, \"country\": \"Canada\"},\n",
        "    {\"country_id\": 2009, \"country\": \"Australia\"},\n",
        "    {\"country_id\": 2010, \"country\": \"Japan\"},\n",
        "    {\"country_id\": 2011, \"country\": \"China\"},\n",
        "    {\"country_id\": 2012, \"country\": \"India\"},\n",
        "    {\"country_id\": 2013, \"country\": \"South Korea\"},\n",
        "    {\"country_id\": 2014, \"country\": \"Russia\"},\n",
        "    {\"country_id\": 2015, \"country\": \"Argentina\"}\n",
        "]\n",
        "\n",
        "countries = spark.createDataFrame(countries)"
      ]
    },
    {
      "cell_type": "markdown",
      "metadata": {
        "id": "Pg2nx03_Sn62"
      },
      "source": []
    },
    {
      "cell_type": "markdown",
      "metadata": {
        "id": "swvPj9hVpzNf"
      },
      "source": [
        "# Streaming Messages x Messages Corrupted"
      ]
    },
    {
      "cell_type": "code",
      "execution_count": 86,
      "metadata": {
        "id": "ZAHIZeZMlpoH"
      },
      "outputs": [],
      "source": [
        "#Step 2\n",
        "\n",
        "from pyspark.sql.types import StructType, StructField, StringType, IntegerType, TimestampType, LongType\n",
        "\n",
        "\n",
        "# Can not use readStreamwithout  data schema, defining that first\n",
        "schema = StructType([\n",
        "    StructField(\"timestamp\", TimestampType(), True),\n",
        "    StructField(\"value\", LongType(), True),\n",
        "    StructField(\"event_type\", StringType(), True),\n",
        "    StructField(\"message_id\", StringType(), True),\n",
        "    StructField(\"channel\", StringType(), True),\n",
        "    StructField(\"country_id\", IntegerType(), True),\n",
        "    StructField(\"user_id\", IntegerType(), True)\n",
        "])\n",
        "\n",
        "# Getting the types of the schema rights required looking at some errors printed when writing to silver\n",
        "\n",
        "bronze_df = spark.readStream.format(\"parquet\").schema(schema).load(\"/content/lake/bronze/messages/data\")\n",
        "\n",
        "# Join with countries dataset\n",
        "joined_df = bronze_df.join(countries, on=\"country_id\", how=\"left\")\n",
        "\n",
        "# Split into messages_corrupted and messages (based on the exploration done before, for correupted values i have \"\", \"NONE\" and in case lets also clean the nulls (None))\n",
        "messages_corrupted_df = joined_df.filter(col(\"event_type\").isin([None, \"\", \"NONE\"]))\n",
        "messages_df = joined_df.filter(col(\"event_type\").isin([\"CLICKED\", \"CREATED\", \"RECEIVED\", \"OPEN\", \"SENT\"]))\n",
        "\n",
        "# NOTE: I actualy tried to avoid this solution for messages_df as its not elegant at all.\n",
        "# I had done it using subtract (joined_df.subtract(messages_corrupted_df) or joined_df.join(messages_corrupted_df, on=[\"message_id\", \"event_type\"], how=\"left_anti\")~\n",
        "# but both cases are not possible. I also tried negating messages_corrupted_df, using joined_df.filter(~col(\"event_type\").isin([None, \"\", \"NONE\"]))\n",
        "# but this resulted in 0 rows (not sure why :/)\n",
        "\n",
        "\"\"\"print(messages_corrupted_df.count())\n",
        "print(messages_df.count())\n",
        "print(joined_df.count())\n",
        "print(messages_df.show())\n",
        "print(messages_corrupted_df.show())\"\"\"\n",
        "\n",
        "# Add date column using the timestamp already provided\n",
        "messages_corrupted_df = messages_corrupted_df.withColumn(\"date\", to_date(col(\"timestamp\")))\n",
        "messages_df = messages_df.withColumn(\"date\", to_date(col(\"timestamp\")))\n",
        "\n",
        "# Given that we are wreiting under the same conditions, but just for two different locations, a functions saves us time\n",
        "def write_to_silver(df, data_path, checkpoint_location):\n",
        "    query = (df.writeStream\n",
        "             .format(\"parquet\")\n",
        "             .outputMode(\"append\")\n",
        "             .partitionBy(\"date\")\n",
        "             .option(\"checkpointLocation\", checkpoint_location)\n",
        "             .trigger(processingTime=\"5 seconds\")\n",
        "             .start(data_path))\n",
        "    return query\n",
        "\n",
        "query_corrupted = write_to_silver(messages_corrupted_df, \"/content/lake/silver/messages_corrupted/data\", \"/content/lake/silver/messages_corrupted/checkpoint\")\n",
        "query_messages = write_to_silver(messages_df, \"/content/lake/silver/messages/data\", \"/content/lake/silver/messages/checkpoint\")\n",
        "\n",
        "# Run streaming for at least 20 seconds\n",
        "query_corrupted.awaitTermination(20)\n",
        "query_messages.awaitTermination(20)\n",
        "\n",
        "# Stop streaming queries\n",
        "query_corrupted.stop()\n",
        "query_messages.stop()"
      ]
    },
    {
      "cell_type": "markdown",
      "metadata": {
        "id": "jLK9jpjCu3xE"
      },
      "source": [
        "## Checking data"
      ]
    },
    {
      "cell_type": "code",
      "execution_count": 87,
      "metadata": {
        "id": "nk8seEvbmvcU",
        "outputId": "c18235d7-653d-45b5-8423-2b4c162e850b",
        "colab": {
          "base_uri": "https://localhost:8080/"
        }
      },
      "outputs": [
        {
          "output_type": "stream",
          "name": "stdout",
          "text": [
            "Data validation successful: Bronze count matches Silver count\n"
          ]
        }
      ],
      "source": [
        "# To check the results i will simply read them as batch and count. I could have read as strem and \"freeze\" but this is simpler I guess\n",
        "# Count bronze records\n",
        "bronze_count = spark.read.format(\"parquet\").load(\"/content/lake/bronze/messages/data\").count()\n",
        "\n",
        "# Count silver records\n",
        "silver_messages_count = spark.read.schema(schema).format(\"parquet\").load(\"/content/lake/silver/messages/data\").count()\n",
        "silver_corrupted_count = spark.read.schema(schema).format(\"parquet\").load(\"/content/lake/silver/messages_corrupted/data\").count()\n",
        "\n",
        "# Compare counts\n",
        "if bronze_count == silver_messages_count + silver_corrupted_count:\n",
        "    print(\"Data validation successful: Bronze count matches Silver count\")\n",
        "else:\n",
        "    print(\"Data validation failed: Bronze count does not match Silver count\")\n",
        "    print(f\"Bronze count: {bronze_count}\")\n",
        "    print(f\"Silver messages count: {silver_messages_count}\")\n",
        "    print(f\"Silver corrupted count: {silver_corrupted_count}\")"
      ]
    },
    {
      "cell_type": "markdown",
      "source": [],
      "metadata": {
        "id": "M8YygRjWAXau"
      }
    },
    {
      "cell_type": "markdown",
      "source": [],
      "metadata": {
        "id": "jOniPtSSAYIl"
      }
    },
    {
      "cell_type": "markdown",
      "metadata": {
        "id": "rfxIlBISSvRP"
      },
      "source": [
        "# Challenge 2\n",
        "\n",
        "- Run business report\n",
        "- But first, there is a bug in the system which is causing some duplicated messages, we need to exclude these lines from the report\n",
        "\n",
        "- removing duplicates logic:\n",
        "  - Identify possible duplicates on message_id, event_type and channel\n",
        "  - in case of duplicates, consider only the first message (occurrence by timestamp)\n",
        "  - Ex:\n",
        "    In table below, the correct message to consider is the second line\n",
        "\n",
        "```\n",
        "    message_id | channel | event_type | timestamp\n",
        "    123        | CHAT    | CREATED    | 10:10:01\n",
        "    123        | CHAT    | CREATED    | 07:56:45 (first occurrence)\n",
        "    123        | CHAT    | CREATED    | 08:13:33\n",
        "```\n",
        "\n",
        "- After cleaning the data we're able to create the busines report"
      ]
    },
    {
      "cell_type": "code",
      "execution_count": 88,
      "metadata": {
        "id": "R3J9XyOHhqvU"
      },
      "outputs": [],
      "source": [
        "# dedup data\n",
        "from pyspark.sql import functions as F\n",
        "from pyspark.sql.window import Window\n",
        "df = spark.read.format(\"parquet\").load(\"/content/lake/silver/messages/data\")\n",
        "dedup = df.withColumn(\"row_number\", F.row_number().over(Window.partitionBy(\"message_id\", \"event_type\", \"channel\").orderBy(\"timestamp\"))).filter(\"row_number = 1\").drop(\"row_number\")"
      ]
    },
    {
      "cell_type": "markdown",
      "metadata": {
        "id": "RF9L9i25lk74"
      },
      "source": [
        "### Report 1\n",
        "  - Aggregate data by date, event_type and channel\n",
        "  - Count number of messages\n",
        "  - pivot event_type from rows into columns\n",
        "  - schema expected:\n",
        "  \n",
        "```\n",
        "|      date|channel|CLICKED|CREATED|OPEN|RECEIVED|SENT|\n",
        "+----------+-------+-------+-------+----+--------+----+\n",
        "|2024-12-03|    SMS|      4|      4|   1|       1|   5|\n",
        "|2024-12-03|   CHAT|      3|      7|   5|       8|   4|\n",
        "|2024-12-03|   PUSH|   NULL|      3|   4|       3|   4|\n",
        "```"
      ]
    },
    {
      "cell_type": "code",
      "execution_count": 89,
      "metadata": {
        "id": "UPHSMSXnTKgu",
        "outputId": "056d8825-ebe8-4b0b-d46e-2a9da7452a9c",
        "colab": {
          "base_uri": "https://localhost:8080/"
        }
      },
      "outputs": [
        {
          "output_type": "stream",
          "name": "stdout",
          "text": [
            "+----------+-------+-------+-------+----+--------+----+\n",
            "|      date|channel|CLICKED|CREATED|OPEN|RECEIVED|SENT|\n",
            "+----------+-------+-------+-------+----+--------+----+\n",
            "|2024-12-10|   CHAT|      2|      1|   1|       3|   6|\n",
            "|2024-12-10|  EMAIL|      3|      4|   2|       7|   3|\n",
            "|2024-12-10|  OTHER|      3|      3|   6|       3|   3|\n",
            "|2024-12-10|   PUSH|      5|      5|   8|       1|   2|\n",
            "|2024-12-10|    SMS|      4|      8|   5|       5|   3|\n",
            "+----------+-------+-------+-------+----+--------+----+\n",
            "\n"
          ]
        }
      ],
      "source": [
        "# report 1\n",
        "from pyspark.sql.functions import col, count, to_date, date_format\n",
        "from pyspark.sql import functions as F\n",
        "\n",
        "# Assuming 'dedup' is the DataFrame after deduplication\n",
        "report1 = dedup \\\n",
        "    .groupBy(date_format(col(\"timestamp\"), \"yyyy-MM-dd\").alias(\"date\"), \"channel\") \\\n",
        "    .pivot(\"event_type\", ['CLICKED', 'CREATED', 'OPEN', 'RECEIVED', 'SENT']) \\\n",
        "    .agg(count(\"*\")) \\\n",
        "    .orderBy(\"date\", \"channel\")\n",
        "\n",
        "report1.show()\n",
        "\n",
        "\"\"\"\n",
        "groupBy: We group the data by date and channel. The date_format function is used to extract the date from the timestamp column.\n",
        "pivot: We use the pivot function to transform the event_type column into separate columns for each event type, with the values representing the count of messages for that event type.\n",
        "agg(count(\"*\")): We aggregate the data by counting the number of messages for each combination of date, channel, and event_type.\n",
        "orderBy: We sort the results by date and channel for better readability.\n",
        "\"\"\""
      ]
    },
    {
      "cell_type": "markdown",
      "metadata": {
        "id": "bxwOawo2lwQH"
      },
      "source": [
        "## Report 2\n",
        "\n",
        "- Identify the most active users by channel (sorted by number of iterations)\n",
        "- schema expected:\n",
        "\n",
        "```\n",
        "+-------+----------+----+-----+-----+----+---+\n",
        "|user_id|iterations|CHAT|EMAIL|OTHER|PUSH|SMS|\n",
        "+-------+----------+----+-----+-----+----+---+\n",
        "|   1022|         5|   2|    0|    1|   0|  2|\n",
        "|   1004|         4|   1|    1|    1|   1|  0|\n",
        "|   1013|         4|   0|    0|    2|   1|  1|\n",
        "|   1020|         4|   2|    0|    1|   1|  0|\n",
        "```\n"
      ]
    },
    {
      "cell_type": "code",
      "execution_count": null,
      "metadata": {
        "id": "rsS7bkAJmWsW"
      },
      "outputs": [],
      "source": [
        "# report 2\n",
        "\n",
        "from pyspark.sql.functions import col, count, sum\n",
        "\n",
        "# Assuming 'dedup' is the DataFrame after deduplication\n",
        "report2 = dedup \\\n",
        "    .groupBy(\"user_id\") \\\n",
        "    .agg(count(\"*\").alias(\"iterations\"),\n",
        "         sum(F.when(col(\"channel\") == \"CHAT\", 1, 0)).alias(\"CHAT\"),\n",
        "         sum(F.when(col(\"channel\") == \"EMAIL\", 1, 0)).alias(\"EMAIL\"),\n",
        "         sum(F.when(col(\"channel\") == \"OTHER\", 1, 0)).alias(\"OTHER\"),\n",
        "         sum(F.when(col(\"channel\") == \"PUSH\", 1, 0)).alias(\"PUSH\"),\n",
        "         sum(F.when(col(\"channel\") == \"SMS\", 1, 0)).alias(\"SMS\")) \\\n",
        "    .orderBy(col(\"iterations\").desc())\n",
        "\n",
        "report2.show()\n",
        "\n",
        "\"\"\"\n",
        "groupBy: We group the data by user_id to analyze user activity.\n",
        "agg: We use aggregate functions to calculate the following:\n",
        "count(\"*\").alias(\"iterations\"): Counts the total number of interactions for each user, aliased as \"iterations\".\n",
        "sum(F.when(col(\"channel\") == \"CHAT\", 1, 0)).alias(\"CHAT\"): Counts the number of interactions for each user in the \"CHAT\" channel, aliased as \"CHAT\". Similar logic is applied for other channels (EMAIL, OTHER, PUSH, SMS).\n",
        "orderBy: We sort the results by \"iterations\" in descending order to identify the most active users.\n",
        "\"\"\""
      ]
    },
    {
      "cell_type": "markdown",
      "metadata": {
        "id": "a9_kzDbDwDOS"
      },
      "source": [
        "# Challenge 3"
      ]
    },
    {
      "cell_type": "code",
      "execution_count": null,
      "metadata": {
        "id": "Ef0RjFTxwE5y"
      },
      "outputs": [],
      "source": [
        "# Theoretical question:\n",
        "\n",
        "# A new usecase requires the message data to be aggregate in near real time\n",
        "# They want to build a dashboard embedded in the platform website to analyze message data in low latency (few minutes)\n",
        "# This application will access directly the data aggregated by streaming process\n",
        "\n",
        "# Q1:\n",
        "- What would be your suggestion to achieve that using Spark Structure Streaming?\n",
        "Or would you choose a different data processing tool?\n",
        "\n",
        "- Which storage would you use and why? (database?, data lake?, kafka?)\n",
        "\n",
        "\"\"\"\n",
        "R: For this use case, Spark Structured Streaming is a strong contender due to its ability to handle low-latency processing, a key requirement here.\n",
        "However, Spark's strengths lie in its processing capabilities, not necessarily in direct data ingestion or output.\n",
        "Therefore, a more robust solution would involve using Spark alongside a message broker like Kafka, Pub/Sub, or Kinesis for efficient and low-latency data ingestion.\n",
        "\n",
        "Once Spark processes the data, the aggregated results need to be stored in a system optimized for frequent,\n",
        "low-latency queries by the dashboard. Options include databases like Cassandra or MongoDB, or data lakes designed for fast reads like Delta Lake should be a good option.\n",
        "\n",
        "\"\"\"\n",
        "\n"
      ]
    }
  ],
  "metadata": {
    "colab": {
      "provenance": [],
      "include_colab_link": true
    },
    "kernelspec": {
      "display_name": "Python 3",
      "name": "python3"
    },
    "language_info": {
      "name": "python"
    }
  },
  "nbformat": 4,
  "nbformat_minor": 0
}