{
  "cells": [
    {
      "cell_type": "markdown",
      "metadata": {
        "id": "view-in-github",
        "colab_type": "text"
      },
      "source": [
        "<a href=\"https://colab.research.google.com/github/PedroTechy/DataProcessingEdit/blob/main/spark_streaming/final_challenges.ipynb\" target=\"_parent\"><img src=\"https://colab.research.google.com/assets/colab-badge.svg\" alt=\"Open In Colab\"/></a>"
      ]
    },
    {
      "cell_type": "markdown",
      "metadata": {
        "id": "4_GBE9UsyxwK"
      },
      "source": []
    },
    {
      "cell_type": "markdown",
      "metadata": {
        "id": "d9LeYFsPTjAb"
      },
      "source": [
        "# Setting up PySpark"
      ]
    },
    {
      "cell_type": "code",
      "source": [
        "#!rm -rf /content/content\n",
        "!rm -rf /content/lake/silver"
      ],
      "metadata": {
        "id": "yYUn0eP80k8h"
      },
      "execution_count": null,
      "outputs": []
    },
    {
      "cell_type": "code",
      "execution_count": 24,
      "metadata": {
        "colab": {
          "base_uri": "https://localhost:8080/"
        },
        "id": "uYXeODL0T1fO",
        "outputId": "5e224e0a-ca8a-4de7-f4e5-90e1ab8d1894"
      },
      "outputs": [
        {
          "output_type": "stream",
          "name": "stdout",
          "text": [
            "Requirement already satisfied: pyspark in /usr/local/lib/python3.10/dist-packages (3.5.3)\n",
            "Requirement already satisfied: py4j==0.10.9.7 in /usr/local/lib/python3.10/dist-packages (from pyspark) (0.10.9.7)\n"
          ]
        }
      ],
      "source": [
        "%pip install pyspark"
      ]
    },
    {
      "cell_type": "markdown",
      "metadata": {
        "id": "Rcybt71kTDNt"
      },
      "source": [
        "# Context\n",
        "Message events are coming from platform message broker (kafka, pubsub, kinesis...).\n",
        "You need to process the data according to the requirements.\n",
        "\n",
        "Message schema:\n",
        "- timestamp\n",
        "- value\n",
        "- event_type\n",
        "- message_id\n",
        "- country_id\n",
        "- user_id\n",
        "\n"
      ]
    },
    {
      "cell_type": "markdown",
      "metadata": {
        "id": "JkyPORKNSYvV"
      },
      "source": [
        "# Challenge 1\n",
        "\n",
        "Step 1\n",
        "- Change exising producer\n",
        "\t- Change parquet location to \"/content/lake/bronze/messages/data\"\n",
        "\t- Add checkpoint (/content/lake/bronze/messages/checkpoint)\n",
        "\t- Delete /content/lake/bronze/messages and reprocess data\n",
        "\t- For reprocessing, run the streaming for at least 1 minute, then stop it\n",
        "\n",
        "Step 2\n",
        "- Implement new stream job to read from messages in bronze layer and split result in two locations\n",
        "\t- \"messages_corrupted\"\n",
        "\t\t- logic: event_status is null, empty or equal to \"NONE\"\n",
        "    - extra logic: add country name by joining message with countries dataset\n",
        "\t\t- partition by \"date\" -extract it from timestamp\n",
        "\t\t- location: /content/lake/silver/messages_corrupted/data\n",
        "\n",
        "\t- \"messages\"\n",
        "\t\t- logic: not corrupted data\n",
        "\t\t- extra logic: add country name by joining message with countries dataset\n",
        "\t\t- partition by \"date\" -extract it from timestamp\n",
        "\t\t- location: /content/lake/silver/messages/data\n",
        "\n",
        "\t- technical requirements\n",
        "\t\t- add checkpint (choose location)\n",
        "\t\t- use StructSchema\n",
        "\t\t- Set trigger interval to 5 seconds\n",
        "\t\t- run streaming for at least 20 seconds, then stop it\n",
        "\n",
        "\t- alternatives\n",
        "\t\t- implementing single streaming job with foreach/- foreachBatch logic to write into two locations\n",
        "\t\t- implementing two streaming jobs, one for messages and another for messages_corrupted\n",
        "\t\t- (paying attention on the paths and checkpoints)\n",
        "\n",
        "\n",
        "  - Check results:\n",
        "    - results from messages in bronze layer should match with the sum of messages+messages_corrupted in the silver layer"
      ]
    },
    {
      "cell_type": "code",
      "execution_count": 25,
      "metadata": {
        "colab": {
          "base_uri": "https://localhost:8080/"
        },
        "id": "Udk3tohSaXOH",
        "outputId": "4e07424a-3d40-4343-e864-531b62d352c1"
      },
      "outputs": [
        {
          "output_type": "stream",
          "name": "stdout",
          "text": [
            "Requirement already satisfied: faker in /usr/local/lib/python3.10/dist-packages (33.1.0)\n",
            "Requirement already satisfied: python-dateutil>=2.4 in /usr/local/lib/python3.10/dist-packages (from faker) (2.8.2)\n",
            "Requirement already satisfied: typing-extensions in /usr/local/lib/python3.10/dist-packages (from faker) (4.12.2)\n",
            "Requirement already satisfied: six>=1.5 in /usr/local/lib/python3.10/dist-packages (from python-dateutil>=2.4->faker) (1.17.0)\n"
          ]
        }
      ],
      "source": [
        "%pip install faker"
      ]
    },
    {
      "cell_type": "markdown",
      "metadata": {
        "id": "cDGMKwBdi1qy"
      },
      "source": [
        "# Producer"
      ]
    },
    {
      "cell_type": "code",
      "execution_count": 26,
      "metadata": {
        "colab": {
          "base_uri": "https://localhost:8080/"
        },
        "id": "tPCOdivrfhYh",
        "outputId": "c4efa7ae-5cc2-4667-cdb8-7b8ef04d8381"
      },
      "outputs": [
        {
          "output_type": "execute_result",
          "data": {
            "text/plain": [
              "False"
            ]
          },
          "metadata": {},
          "execution_count": 26
        }
      ],
      "source": [
        "import pyspark.sql.functions as F\n",
        "from pyspark.sql import DataFrame\n",
        "from faker import Faker\n",
        "from pyspark.sql import SparkSession\n",
        "\n",
        "spark = SparkSession.builder.appName('Test streaming').getOrCreate()\n",
        "sc = spark.sparkContext\n",
        "\n",
        "fake = Faker()\n",
        "messages = [fake.uuid4() for _ in range(50)]\n",
        "\n",
        "def enrich_data(df, messages=messages):\n",
        "  fake = Faker()\n",
        "  new_columns = {\n",
        "      'event_type': F.lit(fake.random_element(elements=('OPEN', 'RECEIVED', 'SENT', 'CREATED', 'CLICKED', '', 'NONE'))),\n",
        "      'message_id': F.lit(fake.random_element(elements=messages)),\n",
        "      'channel': F.lit(fake.random_element(elements=('CHAT', 'EMAIL', 'SMS', 'PUSH', 'OTHER'))),\n",
        "      'country_id': F.lit(fake.random_int(min=2000, max=2015)),\n",
        "      'user_id': F.lit(fake.random_int(min=1000, max=1050)),\n",
        "  }\n",
        "  df = df.withColumns(new_columns)\n",
        "  return df\n",
        "\n",
        "def insert_messages(df: DataFrame, batch_id):\n",
        "  enrich = enrich_data(df)\n",
        "  enrich.write.mode(\"append\").format(\"parquet\").save(\"/content/lake/bronze/messages/data\")\n",
        "\n",
        "# read stream\n",
        "df_stream = spark.readStream.format(\"rate\").option(\"rowsPerSecond\", 1).load()\n",
        "\n",
        "# write stream\n",
        "query = (df_stream.writeStream\n",
        ".outputMode('append')\n",
        ".trigger(processingTime='1 seconds')\n",
        ".foreachBatch(insert_messages)\n",
        ".option('checkpointLocation', '/content/lake/bronze/messages/checkpoint')\n",
        ".start()\n",
        ")\n",
        "\n",
        "query.awaitTermination(60)\n"
      ]
    },
    {
      "cell_type": "code",
      "execution_count": 27,
      "metadata": {
        "id": "KNyUK3yplDhg",
        "outputId": "90e83071-ede4-498c-bf51-652c4ab3b129",
        "colab": {
          "base_uri": "https://localhost:8080/"
        }
      },
      "outputs": [
        {
          "output_type": "stream",
          "name": "stderr",
          "text": [
            "ERROR:py4j.clientserver:There was an exception while executing the Python Proxy on the Python Side.\n",
            "Traceback (most recent call last):\n",
            "  File \"/usr/local/lib/python3.10/dist-packages/py4j/clientserver.py\", line 617, in _call_proxy\n",
            "    return_value = getattr(self.pool[obj_id], method)(*params)\n",
            "  File \"/usr/local/lib/python3.10/dist-packages/pyspark/sql/utils.py\", line 120, in call\n",
            "    raise e\n",
            "  File \"/usr/local/lib/python3.10/dist-packages/pyspark/sql/utils.py\", line 117, in call\n",
            "    self.func(DataFrame(jdf, wrapped_session_jdf), batch_id)\n",
            "  File \"<ipython-input-26-56fa2b2712cc>\", line 26, in insert_messages\n",
            "    enrich.write.mode(\"append\").format(\"parquet\").save(\"/content/lake/bronze/messages/data\")\n",
            "  File \"/usr/local/lib/python3.10/dist-packages/pyspark/sql/readwriter.py\", line 1463, in save\n",
            "    self._jwrite.save(path)\n",
            "  File \"/usr/local/lib/python3.10/dist-packages/py4j/java_gateway.py\", line 1322, in __call__\n",
            "    return_value = get_return_value(\n",
            "  File \"/usr/local/lib/python3.10/dist-packages/pyspark/errors/exceptions/captured.py\", line 179, in deco\n",
            "    return f(*a, **kw)\n",
            "  File \"/usr/local/lib/python3.10/dist-packages/py4j/protocol.py\", line 326, in get_return_value\n",
            "    raise Py4JJavaError(\n",
            "py4j.protocol.Py4JJavaError: An error occurred while calling o3436.save.\n",
            ": java.lang.InterruptedException\n",
            "\tat java.base/java.util.concurrent.locks.AbstractQueuedSynchronizer.doAcquireSharedInterruptibly(AbstractQueuedSynchronizer.java:1040)\n",
            "\tat java.base/java.util.concurrent.locks.AbstractQueuedSynchronizer.acquireSharedInterruptibly(AbstractQueuedSynchronizer.java:1345)\n",
            "\tat scala.concurrent.impl.Promise$DefaultPromise.tryAwait(Promise.scala:242)\n",
            "\tat scala.concurrent.impl.Promise$DefaultPromise.ready(Promise.scala:258)\n",
            "\tat scala.concurrent.impl.Promise$DefaultPromise.ready(Promise.scala:187)\n",
            "\tat org.apache.spark.util.ThreadUtils$.awaitReady(ThreadUtils.scala:342)\n",
            "\tat org.apache.spark.scheduler.DAGScheduler.runJob(DAGScheduler.scala:980)\n",
            "\tat org.apache.spark.SparkContext.runJob(SparkContext.scala:2393)\n",
            "\tat org.apache.spark.sql.execution.datasources.FileFormatWriter$.$anonfun$executeWrite$4(FileFormatWriter.scala:307)\n",
            "\tat org.apache.spark.sql.execution.datasources.FileFormatWriter$.writeAndCommit(FileFormatWriter.scala:271)\n",
            "\tat org.apache.spark.sql.execution.datasources.FileFormatWriter$.executeWrite(FileFormatWriter.scala:304)\n",
            "\tat org.apache.spark.sql.execution.datasources.FileFormatWriter$.write(FileFormatWriter.scala:190)\n",
            "\tat org.apache.spark.sql.execution.datasources.InsertIntoHadoopFsRelationCommand.run(InsertIntoHadoopFsRelationCommand.scala:190)\n",
            "\tat org.apache.spark.sql.execution.command.DataWritingCommandExec.sideEffectResult$lzycompute(commands.scala:113)\n",
            "\tat org.apache.spark.sql.execution.command.DataWritingCommandExec.sideEffectResult(commands.scala:111)\n",
            "\tat org.apache.spark.sql.execution.command.DataWritingCommandExec.executeCollect(commands.scala:125)\n",
            "\tat org.apache.spark.sql.execution.QueryExecution$$anonfun$eagerlyExecuteCommands$1.$anonfun$applyOrElse$1(QueryExecution.scala:107)\n",
            "\tat org.apache.spark.sql.execution.SQLExecution$.$anonfun$withNewExecutionId$6(SQLExecution.scala:125)\n",
            "\tat org.apache.spark.sql.execution.SQLExecution$.withSQLConfPropagated(SQLExecution.scala:201)\n",
            "\tat org.apache.spark.sql.execution.SQLExecution$.$anonfun$withNewExecutionId$1(SQLExecution.scala:108)\n",
            "\tat org.apache.spark.sql.SparkSession.withActive(SparkSession.scala:900)\n",
            "\tat org.apache.spark.sql.execution.SQLExecution$.withNewExecutionId(SQLExecution.scala:66)\n",
            "\tat org.apache.spark.sql.execution.QueryExecution$$anonfun$eagerlyExecuteCommands$1.applyOrElse(QueryExecution.scala:107)\n",
            "\tat org.apache.spark.sql.execution.QueryExecution$$anonfun$eagerlyExecuteCommands$1.applyOrElse(QueryExecution.scala:98)\n",
            "\tat org.apache.spark.sql.catalyst.trees.TreeNode.$anonfun$transformDownWithPruning$1(TreeNode.scala:461)\n",
            "\tat org.apache.spark.sql.catalyst.trees.CurrentOrigin$.withOrigin(origin.scala:76)\n",
            "\tat org.apache.spark.sql.catalyst.trees.TreeNode.transformDownWithPruning(TreeNode.scala:461)\n",
            "\tat org.apache.spark.sql.catalyst.plans.logical.LogicalPlan.org$apache$spark$sql$catalyst$plans$logical$AnalysisHelper$$super$transformDownWithPruning(LogicalPlan.scala:32)\n",
            "\tat org.apache.spark.sql.catalyst.plans.logical.AnalysisHelper.transformDownWithPruning(AnalysisHelper.scala:267)\n",
            "\tat org.apache.spark.sql.catalyst.plans.logical.AnalysisHelper.transformDownWithPruning$(AnalysisHelper.scala:263)\n",
            "\tat org.apache.spark.sql.catalyst.plans.logical.LogicalPlan.transformDownWithPruning(LogicalPlan.scala:32)\n",
            "\tat org.apache.spark.sql.catalyst.plans.logical.LogicalPlan.transformDownWithPruning(LogicalPlan.scala:32)\n",
            "\tat org.apache.spark.sql.catalyst.trees.TreeNode.transformDown(TreeNode.scala:437)\n",
            "\tat org.apache.spark.sql.execution.QueryExecution.eagerlyExecuteCommands(QueryExecution.scala:98)\n",
            "\tat org.apache.spark.sql.execution.QueryExecution.commandExecuted$lzycompute(QueryExecution.scala:85)\n",
            "\tat org.apache.spark.sql.execution.QueryExecution.commandExecuted(QueryExecution.scala:83)\n",
            "\tat org.apache.spark.sql.execution.QueryExecution.assertCommandExecuted(QueryExecution.scala:142)\n",
            "\tat org.apache.spark.sql.DataFrameWriter.runCommand(DataFrameWriter.scala:869)\n",
            "\tat org.apache.spark.sql.DataFrameWriter.saveToV1Source(DataFrameWriter.scala:391)\n",
            "\tat org.apache.spark.sql.DataFrameWriter.saveInternal(DataFrameWriter.scala:364)\n",
            "\tat org.apache.spark.sql.DataFrameWriter.save(DataFrameWriter.scala:243)\n",
            "\tat jdk.internal.reflect.GeneratedMethodAccessor109.invoke(Unknown Source)\n",
            "\tat java.base/jdk.internal.reflect.DelegatingMethodAccessorImpl.invoke(DelegatingMethodAccessorImpl.java:43)\n",
            "\tat java.base/java.lang.reflect.Method.invoke(Method.java:566)\n",
            "\tat py4j.reflection.MethodInvoker.invoke(MethodInvoker.java:244)\n",
            "\tat py4j.reflection.ReflectionEngine.invoke(ReflectionEngine.java:374)\n",
            "\tat py4j.Gateway.invoke(Gateway.java:282)\n",
            "\tat py4j.commands.AbstractCommand.invokeMethod(AbstractCommand.java:132)\n",
            "\tat py4j.commands.CallCommand.execute(CallCommand.java:79)\n",
            "\tat py4j.ClientServerConnection.sendCommand(ClientServerConnection.java:244)\n",
            "\tat py4j.CallbackClient.sendCommand(CallbackClient.java:384)\n",
            "\tat py4j.CallbackClient.sendCommand(CallbackClient.java:356)\n",
            "\tat py4j.reflection.PythonProxyHandler.invoke(PythonProxyHandler.java:106)\n",
            "\tat com.sun.proxy.$Proxy30.call(Unknown Source)\n",
            "\tat org.apache.spark.sql.execution.streaming.sources.PythonForeachBatchHelper$.$anonfun$callForeachBatch$1(ForeachBatchSink.scala:53)\n",
            "\tat org.apache.spark.sql.execution.streaming.sources.PythonForeachBatchHelper$.$anonfun$callForeachBatch$1$adapted(ForeachBatchSink.scala:53)\n",
            "\tat org.apache.spark.sql.execution.streaming.sources.ForeachBatchSink.addBatch(ForeachBatchSink.scala:34)\n",
            "\tat org.apache.spark.sql.execution.streaming.MicroBatchExecution.$anonfun$runBatch$17(MicroBatchExecution.scala:732)\n",
            "\tat org.apache.spark.sql.execution.SQLExecution$.$anonfun$withNewExecutionId$6(SQLExecution.scala:125)\n",
            "\tat org.apache.spark.sql.execution.SQLExecution$.withSQLConfPropagated(SQLExecution.scala:201)\n",
            "\tat org.apache.spark.sql.execution.SQLExecution$.$anonfun$withNewExecutionId$1(SQLExecution.scala:108)\n",
            "\tat org.apache.spark.sql.SparkSession.withActive(SparkSession.scala:900)\n",
            "\tat org.apache.spark.sql.execution.SQLExecution$.withNewExecutionId(SQLExecution.scala:66)\n",
            "\tat org.apache.spark.sql.execution.streaming.MicroBatchExecution.$anonfun$runBatch$16(MicroBatchExecution.scala:729)\n",
            "\tat org.apache.spark.sql.execution.streaming.ProgressReporter.reportTimeTaken(ProgressReporter.scala:427)\n",
            "\tat org.apache.spark.sql.execution.streaming.ProgressReporter.reportTimeTaken$(ProgressReporter.scala:425)\n",
            "\tat org.apache.spark.sql.execution.streaming.StreamExecution.reportTimeTaken(StreamExecution.scala:67)\n",
            "\tat org.apache.spark.sql.execution.streaming.MicroBatchExecution.runBatch(MicroBatchExecution.scala:729)\n",
            "\tat org.apache.spark.sql.execution.streaming.MicroBatchExecution.$anonfun$runActivatedStream$2(MicroBatchExecution.scala:286)\n",
            "\tat scala.runtime.java8.JFunction0$mcV$sp.apply(JFunction0$mcV$sp.java:23)\n",
            "\tat org.apache.spark.sql.execution.streaming.ProgressReporter.reportTimeTaken(ProgressReporter.scala:427)\n",
            "\tat org.apache.spark.sql.execution.streaming.ProgressReporter.reportTimeTaken$(ProgressReporter.scala:425)\n",
            "\tat org.apache.spark.sql.execution.streaming.StreamExecution.reportTimeTaken(StreamExecution.scala:67)\n",
            "\tat org.apache.spark.sql.execution.streaming.MicroBatchExecution.$anonfun$runActivatedStream$1(MicroBatchExecution.scala:249)\n",
            "\tat org.apache.spark.sql.execution.streaming.ProcessingTimeExecutor.execute(TriggerExecutor.scala:67)\n",
            "\tat org.apache.spark.sql.execution.streaming.MicroBatchExecution.runActivatedStream(MicroBatchExecution.scala:239)\n",
            "\tat org.apache.spark.sql.execution.streaming.StreamExecution.$anonfun$runStream$1(StreamExecution.scala:311)\n",
            "\tat scala.runtime.java8.JFunction0$mcV$sp.apply(JFunction0$mcV$sp.java:23)\n",
            "\tat org.apache.spark.sql.SparkSession.withActive(SparkSession.scala:900)\n",
            "\tat org.apache.spark.sql.execution.streaming.StreamExecution.org$apache$spark$sql$execution$streaming$StreamExecution$$runStream(StreamExecution.scala:289)\n",
            "\tat org.apache.spark.sql.execution.streaming.StreamExecution$$anon$1.$anonfun$run$1(StreamExecution.scala:211)\n",
            "\tat scala.runtime.java8.JFunction0$mcV$sp.apply(JFunction0$mcV$sp.java:23)\n",
            "\tat org.apache.spark.JobArtifactSet$.withActiveJobArtifactState(JobArtifactSet.scala:94)\n",
            "\tat org.apache.spark.sql.execution.streaming.StreamExecution$$anon$1.run(StreamExecution.scala:211)\n",
            "\n"
          ]
        }
      ],
      "source": [
        "query.stop()"
      ]
    },
    {
      "cell_type": "code",
      "execution_count": 28,
      "metadata": {
        "id": "ZWQExsnzlMFe"
      },
      "outputs": [],
      "source": [
        "df = spark.read.format(\"parquet\").load(\"/content/lake/bronze/messages/data\")\n",
        "#df.show() #usefull to visualize the data and understand the schema"
      ]
    },
    {
      "cell_type": "markdown",
      "metadata": {
        "id": "RraxHCycMdEZ"
      },
      "source": [
        "# Additional datasets"
      ]
    },
    {
      "cell_type": "code",
      "execution_count": 29,
      "metadata": {
        "id": "cfsus3dxMcQI"
      },
      "outputs": [],
      "source": [
        "countries = [\n",
        "    {\"country_id\": 2000, \"country\": \"Brazil\"},\n",
        "    {\"country_id\": 2001, \"country\": \"Portugal\"},\n",
        "    {\"country_id\": 2002, \"country\": \"Spain\"},\n",
        "    {\"country_id\": 2003, \"country\": \"Germany\"},\n",
        "    {\"country_id\": 2004, \"country\": \"France\"},\n",
        "    {\"country_id\": 2005, \"country\": \"Italy\"},\n",
        "    {\"country_id\": 2006, \"country\": \"United Kingdom\"},\n",
        "    {\"country_id\": 2007, \"country\": \"United States\"},\n",
        "    {\"country_id\": 2008, \"country\": \"Canada\"},\n",
        "    {\"country_id\": 2009, \"country\": \"Australia\"},\n",
        "    {\"country_id\": 2010, \"country\": \"Japan\"},\n",
        "    {\"country_id\": 2011, \"country\": \"China\"},\n",
        "    {\"country_id\": 2012, \"country\": \"India\"},\n",
        "    {\"country_id\": 2013, \"country\": \"South Korea\"},\n",
        "    {\"country_id\": 2014, \"country\": \"Russia\"},\n",
        "    {\"country_id\": 2015, \"country\": \"Argentina\"}\n",
        "]\n",
        "\n",
        "countries = spark.createDataFrame(countries)"
      ]
    },
    {
      "cell_type": "markdown",
      "metadata": {
        "id": "Pg2nx03_Sn62"
      },
      "source": []
    },
    {
      "cell_type": "markdown",
      "metadata": {
        "id": "swvPj9hVpzNf"
      },
      "source": [
        "# Streaming Messages x Messages Corrupted"
      ]
    },
    {
      "cell_type": "code",
      "execution_count": 30,
      "metadata": {
        "id": "ZAHIZeZMlpoH"
      },
      "outputs": [],
      "source": [
        "#Step 2\n",
        "\n",
        "from pyspark.sql.types import StructType, StructField, StringType, IntegerType, TimestampType, LongType\n",
        "from pyspark.sql.functions import *\n",
        "\n",
        "# Can not use readStreamwithout  data schema, defining that first\n",
        "schema = StructType([\n",
        "    StructField(\"timestamp\", TimestampType(), True),\n",
        "    StructField(\"value\", LongType(), True),\n",
        "    StructField(\"event_type\", StringType(), True),\n",
        "    StructField(\"message_id\", StringType(), True),\n",
        "    StructField(\"channel\", StringType(), True),\n",
        "    StructField(\"country_id\", IntegerType(), True),\n",
        "    StructField(\"user_id\", IntegerType(), True)\n",
        "])\n",
        "\n",
        "# Getting the types of the schema rights required looking at some errors printed when writing to silver\n",
        "\n",
        "bronze_df = spark.readStream.format(\"parquet\").schema(schema).load(\"/content/lake/bronze/messages/data\")\n",
        "\n",
        "# Join with countries dataset\n",
        "joined_df = bronze_df.join(countries, on=\"country_id\", how=\"left\")\n",
        "\n",
        "# Split into messages_corrupted and messages (based on the exploration done before, for correupted values i have \"\", \"NONE\" and in case lets also clean the nulls (None))\n",
        "messages_corrupted_df = joined_df.filter(col(\"event_type\").isin([None, \"\", \"NONE\"]))\n",
        "messages_df = joined_df.filter(col(\"event_type\").isin([\"CLICKED\", \"CREATED\", \"RECEIVED\", \"OPEN\", \"SENT\"]))\n",
        "\n",
        "# NOTE: I actualy tried to avoid this solution for messages_df as its not elegant at all.\n",
        "# I had done it using subtract (joined_df.subtract(messages_corrupted_df) or joined_df.join(messages_corrupted_df, on=[\"message_id\", \"event_type\"], how=\"left_anti\")~\n",
        "# but both cases are not possible. I also tried negating messages_corrupted_df, using joined_df.filter(~col(\"event_type\").isin([None, \"\", \"NONE\"]))\n",
        "# but this resulted in 0 rows (not sure why :/)\n",
        "\n",
        "\"\"\"print(messages_corrupted_df.count())\n",
        "print(messages_df.count())\n",
        "print(joined_df.count())\n",
        "print(messages_df.show())\n",
        "print(messages_corrupted_df.show())\"\"\"\n",
        "\n",
        "# Add date column using the timestamp already provided\n",
        "messages_corrupted_df = messages_corrupted_df.withColumn(\"date\", to_date(col(\"timestamp\")))\n",
        "messages_df = messages_df.withColumn(\"date\", to_date(col(\"timestamp\")))\n",
        "\n",
        "# Given that we are writing under the same conditions, but just for two different locations, a functions saves us time\n",
        "def write_to_silver(df, data_path, checkpoint_location):\n",
        "    query = (df.writeStream\n",
        "             .format(\"parquet\")\n",
        "             .outputMode(\"append\")\n",
        "             .partitionBy(\"date\")\n",
        "             .option(\"checkpointLocation\", checkpoint_location)\n",
        "             .trigger(processingTime=\"5 seconds\")\n",
        "             .start(data_path))\n",
        "    return query\n",
        "\n",
        "query_corrupted = write_to_silver(messages_corrupted_df, \"/content/lake/silver/messages_corrupted/data\", \"/content/lake/silver/messages_corrupted/checkpoint\")\n",
        "query_messages = write_to_silver(messages_df, \"/content/lake/silver/messages/data\", \"/content/lake/silver/messages/checkpoint\")\n",
        "\n",
        "# Run streaming for at least 20 seconds\n",
        "query_corrupted.awaitTermination(20)\n",
        "query_messages.awaitTermination(20)\n",
        "\n",
        "# Stop streaming queries\n",
        "query_corrupted.stop()\n",
        "query_messages.stop()"
      ]
    },
    {
      "cell_type": "markdown",
      "metadata": {
        "id": "jLK9jpjCu3xE"
      },
      "source": [
        "## Checking data"
      ]
    },
    {
      "cell_type": "code",
      "execution_count": 31,
      "metadata": {
        "id": "nk8seEvbmvcU",
        "outputId": "951167ee-6cb4-4df7-f1a7-dfe12e40b4b5",
        "colab": {
          "base_uri": "https://localhost:8080/"
        }
      },
      "outputs": [
        {
          "output_type": "stream",
          "name": "stdout",
          "text": [
            "Data validation successful: Bronze count matches Silver count\n"
          ]
        }
      ],
      "source": [
        "# To check the results i will simply read them as batch and count. I could have read as strem and \"freeze\" but this is simpler I guess\n",
        "# Count bronze records\n",
        "bronze_count = spark.read.format(\"parquet\").load(\"/content/lake/bronze/messages/data\").count()\n",
        "\n",
        "# Count silver records\n",
        "silver_messages_count = spark.read.schema(schema).format(\"parquet\").load(\"/content/lake/silver/messages/data\").count()\n",
        "silver_corrupted_count = spark.read.schema(schema).format(\"parquet\").load(\"/content/lake/silver/messages_corrupted/data\").count()\n",
        "\n",
        "# Compare counts\n",
        "if bronze_count == silver_messages_count + silver_corrupted_count:\n",
        "    print(\"Data validation successful: Bronze count matches Silver count\")\n",
        "else:\n",
        "    print(\"Data validation failed: Bronze count does not match Silver count\")\n",
        "    print(f\"Bronze count: {bronze_count}\")\n",
        "    print(f\"Silver messages count: {silver_messages_count}\")\n",
        "    print(f\"Silver corrupted count: {silver_corrupted_count}\")"
      ]
    },
    {
      "cell_type": "markdown",
      "metadata": {
        "id": "rfxIlBISSvRP"
      },
      "source": [
        "# Challenge 2\n",
        "\n",
        "- Run business report\n",
        "- But first, there is a bug in the system which is causing some duplicated messages, we need to exclude these lines from the report\n",
        "\n",
        "- removing duplicates logic:\n",
        "  - Identify possible duplicates on message_id, event_type and channel\n",
        "  - in case of duplicates, consider only the first message (occurrence by timestamp)\n",
        "  - Ex:\n",
        "    In table below, the correct message to consider is the second line\n",
        "\n",
        "```\n",
        "    message_id | channel | event_type | timestamp\n",
        "    123        | CHAT    | CREATED    | 10:10:01\n",
        "    123        | CHAT    | CREATED    | 07:56:45 (first occurrence)\n",
        "    123        | CHAT    | CREATED    | 08:13:33\n",
        "```\n",
        "\n",
        "- After cleaning the data we're able to create the busines report"
      ]
    },
    {
      "cell_type": "code",
      "execution_count": 32,
      "metadata": {
        "id": "R3J9XyOHhqvU",
        "outputId": "bb28205c-658a-4283-fd42-7a5b3ce222cf",
        "colab": {
          "base_uri": "https://localhost:8080/"
        }
      },
      "outputs": [
        {
          "output_type": "stream",
          "name": "stdout",
          "text": [
            "+----------+--------------------+-----+----------+--------------------+-------+-------+-------------+----------+----------+\n",
            "|country_id|           timestamp|value|event_type|          message_id|channel|user_id|      country|      date|row_number|\n",
            "+----------+--------------------+-----+----------+--------------------+-------+-------+-------------+----------+----------+\n",
            "|      2008|2024-12-16 21:13:...| 2082|   CLICKED|044e7ea6-2bbb-415...|  OTHER|   1035|       Canada|2024-12-16|         1|\n",
            "|      2002|2024-12-16 21:12:...| 2049|  RECEIVED|044e7ea6-2bbb-415...|   CHAT|   1009|        Spain|2024-12-16|         1|\n",
            "|      2007|2024-12-16 21:12:...| 2072|  RECEIVED|044e7ea6-2bbb-415...|  OTHER|   1044|United States|2024-12-16|         1|\n",
            "|      2008|2024-12-16 21:13:...| 2091|      SENT|044e7ea6-2bbb-415...|  OTHER|   1031|       Canada|2024-12-16|         1|\n",
            "|      2010|2024-12-16 21:12:...| 2061|   CLICKED|04d74dd7-3692-430...|  OTHER|   1037|        Japan|2024-12-16|         1|\n",
            "|      2012|2024-12-16 21:13:...| 2083|      SENT|04d74dd7-3692-430...|  OTHER|   1025|        India|2024-12-16|         1|\n",
            "|      2007|2024-12-16 20:38:...|    4|      SENT|0904970d-3189-40d...|  OTHER|   1019|United States|2024-12-16|         1|\n",
            "|      2007|2024-12-16 20:38:...|    5|      SENT|0904970d-3189-40d...|  OTHER|   1019|United States|2024-12-16|         2|\n",
            "|      2012|2024-12-16 20:38:...|    7|      SENT|0904970d-3189-40d...|    SMS|   1002|        India|2024-12-16|         1|\n",
            "|      2007|2024-12-16 21:12:...| 2042|   CLICKED|0e4b7e51-3879-4a1...|   CHAT|   1050|United States|2024-12-16|         1|\n",
            "|      2010|2024-12-16 21:12:...| 2071|   CLICKED|111088e7-3a04-49c...|   CHAT|   1036|        Japan|2024-12-16|         1|\n",
            "|      2009|2024-12-16 20:38:...|   34|   CLICKED|17b6084e-af9e-438...|   CHAT|   1046|    Australia|2024-12-16|         1|\n",
            "|      2013|2024-12-16 20:39:...|   80|      SENT|17b6084e-af9e-438...|  OTHER|   1019|  South Korea|2024-12-16|         1|\n",
            "|      2004|2024-12-16 20:39:...|   91|   CLICKED|182dbfe7-a8cc-4c8...|   PUSH|   1031|       France|2024-12-16|         1|\n",
            "|      2003|2024-12-16 20:39:...|   47|   CREATED|182dbfe7-a8cc-4c8...|   CHAT|   1010|      Germany|2024-12-16|         1|\n",
            "|      2012|2024-12-16 20:40:...|  119|      SENT|182dbfe7-a8cc-4c8...|   CHAT|   1046|        India|2024-12-16|         1|\n",
            "|      2005|2024-12-16 20:38:...|   17|      SENT|182dbfe7-a8cc-4c8...|  EMAIL|   1033|        Italy|2024-12-16|         1|\n",
            "|      2005|2024-12-16 20:38:...|   18|   CREATED|1940abf2-0096-407...|   CHAT|   1037|        Italy|2024-12-16|         1|\n",
            "|      2003|2024-12-16 20:39:...|   99|      OPEN|1940abf2-0096-407...|   CHAT|   1016|      Germany|2024-12-16|         1|\n",
            "|      2009|2024-12-16 20:38:...|   25|  RECEIVED|1940abf2-0096-407...|   PUSH|   1023|    Australia|2024-12-16|         1|\n",
            "+----------+--------------------+-----+----------+--------------------+-------+-------+-------------+----------+----------+\n",
            "only showing top 20 rows\n",
            "\n",
            "+----------+--------------------+-----+----------+--------------------+-------+-------+-------------+----------+\n",
            "|country_id|           timestamp|value|event_type|          message_id|channel|user_id|      country|      date|\n",
            "+----------+--------------------+-----+----------+--------------------+-------+-------+-------------+----------+\n",
            "|      2008|2024-12-16 21:13:...| 2082|   CLICKED|044e7ea6-2bbb-415...|  OTHER|   1035|       Canada|2024-12-16|\n",
            "|      2002|2024-12-16 21:12:...| 2049|  RECEIVED|044e7ea6-2bbb-415...|   CHAT|   1009|        Spain|2024-12-16|\n",
            "|      2007|2024-12-16 21:12:...| 2072|  RECEIVED|044e7ea6-2bbb-415...|  OTHER|   1044|United States|2024-12-16|\n",
            "|      2008|2024-12-16 21:13:...| 2091|      SENT|044e7ea6-2bbb-415...|  OTHER|   1031|       Canada|2024-12-16|\n",
            "|      2010|2024-12-16 21:12:...| 2061|   CLICKED|04d74dd7-3692-430...|  OTHER|   1037|        Japan|2024-12-16|\n",
            "|      2012|2024-12-16 21:13:...| 2083|      SENT|04d74dd7-3692-430...|  OTHER|   1025|        India|2024-12-16|\n",
            "|      2007|2024-12-16 20:38:...|    4|      SENT|0904970d-3189-40d...|  OTHER|   1019|United States|2024-12-16|\n",
            "|      2012|2024-12-16 20:38:...|    7|      SENT|0904970d-3189-40d...|    SMS|   1002|        India|2024-12-16|\n",
            "|      2007|2024-12-16 21:12:...| 2042|   CLICKED|0e4b7e51-3879-4a1...|   CHAT|   1050|United States|2024-12-16|\n",
            "|      2010|2024-12-16 21:12:...| 2071|   CLICKED|111088e7-3a04-49c...|   CHAT|   1036|        Japan|2024-12-16|\n",
            "|      2009|2024-12-16 20:38:...|   34|   CLICKED|17b6084e-af9e-438...|   CHAT|   1046|    Australia|2024-12-16|\n",
            "|      2013|2024-12-16 20:39:...|   80|      SENT|17b6084e-af9e-438...|  OTHER|   1019|  South Korea|2024-12-16|\n",
            "|      2004|2024-12-16 20:39:...|   91|   CLICKED|182dbfe7-a8cc-4c8...|   PUSH|   1031|       France|2024-12-16|\n",
            "|      2003|2024-12-16 20:39:...|   47|   CREATED|182dbfe7-a8cc-4c8...|   CHAT|   1010|      Germany|2024-12-16|\n",
            "|      2012|2024-12-16 20:40:...|  119|      SENT|182dbfe7-a8cc-4c8...|   CHAT|   1046|        India|2024-12-16|\n",
            "|      2005|2024-12-16 20:38:...|   17|      SENT|182dbfe7-a8cc-4c8...|  EMAIL|   1033|        Italy|2024-12-16|\n",
            "|      2005|2024-12-16 20:38:...|   18|   CREATED|1940abf2-0096-407...|   CHAT|   1037|        Italy|2024-12-16|\n",
            "|      2003|2024-12-16 20:39:...|   99|      OPEN|1940abf2-0096-407...|   CHAT|   1016|      Germany|2024-12-16|\n",
            "|      2009|2024-12-16 20:38:...|   25|  RECEIVED|1940abf2-0096-407...|   PUSH|   1023|    Australia|2024-12-16|\n",
            "|      2011|2024-12-16 21:12:...| 2060|  RECEIVED|1dc9f098-fbc8-466...|  OTHER|   1005|        China|2024-12-16|\n",
            "+----------+--------------------+-----+----------+--------------------+-------+-------+-------------+----------+\n",
            "only showing top 20 rows\n",
            "\n"
          ]
        }
      ],
      "source": [
        "# dedup data\n",
        "from pyspark.sql.window import Window\n",
        "\n",
        "df = spark.read.format(\"parquet\").load(\"/content/lake/silver/messages/data\")\n",
        "\n",
        "# Using row_number to then filter by the 1st one regarding the time stamp\n",
        "partitioned_df = df.withColumn(\"row_number\", row_number().over(Window.partitionBy(\"message_id\", \"event_type\", \"channel\")\n",
        "                                                              .orderBy(\"timestamp\")))\n",
        "\n",
        "partitioned_df.show()   # the dups can be seen here\n",
        "\n",
        "# Now that we have a row number that \"ranks\" by tiem stamp, we keep only those with row_number as 1, then we delete row_number column because we don't need it anymore\n",
        "dedup = partitioned_df.filter(\"row_number = 1\").drop(\"row_number\")\n",
        "\n",
        "dedup.show()"
      ]
    },
    {
      "cell_type": "markdown",
      "metadata": {
        "id": "RF9L9i25lk74"
      },
      "source": [
        "### Report 1\n",
        "  - Aggregate data by date, event_type and channel\n",
        "  - Count number of messages\n",
        "  - pivot event_type from rows into columns\n",
        "  - schema expected:\n",
        "  \n",
        "```\n",
        "|      date|channel|CLICKED|CREATED|OPEN|RECEIVED|SENT|\n",
        "+----------+-------+-------+-------+----+--------+----+\n",
        "|2024-12-03|    SMS|      4|      4|   1|       1|   5|\n",
        "|2024-12-03|   CHAT|      3|      7|   5|       8|   4|\n",
        "|2024-12-03|   PUSH|   NULL|      3|   4|       3|   4|\n",
        "```"
      ]
    },
    {
      "cell_type": "code",
      "execution_count": 34,
      "metadata": {
        "id": "UPHSMSXnTKgu",
        "outputId": "73700f3e-fe59-4c37-b04d-eff3af3596c0",
        "colab": {
          "base_uri": "https://localhost:8080/"
        }
      },
      "outputs": [
        {
          "output_type": "stream",
          "name": "stdout",
          "text": [
            "+----------+-------+-------+-------+----+--------+----+\n",
            "|      date|channel|CLICKED|CREATED|OPEN|RECEIVED|SENT|\n",
            "+----------+-------+-------+-------+----+--------+----+\n",
            "|2024-12-16|   PUSH|      6|      2|   2|       6|   2|\n",
            "|2024-12-16|   CHAT|      5|      7|   3|       9|   8|\n",
            "|2024-12-16|  OTHER|      6|      7|   3|       7|   9|\n",
            "+----------+-------+-------+-------+----+--------+----+\n",
            "only showing top 3 rows\n",
            "\n"
          ]
        }
      ],
      "source": [
        "# report 1\n",
        "from pyspark.sql.functions import col, count, to_date, date_format\n",
        "from pyspark.sql import functions as F\n",
        "\n",
        "# First I group the data by date and channel. The date_format function is used to extract the date from the timestamp column\n",
        "# Then, I use the pivot function to transform the event_type column into separate columns for each event type, with the values representing the count of messages for that event type.\n",
        "# In the end, aggregate the data by counting the number of messages for each combination of date, channel, and event_type.\n",
        "\n",
        "report1 = dedup.groupBy(date_format(col(\"timestamp\"), \"yyyy-MM-dd\").alias(\"date\"), \"channel\") \\\n",
        "              .pivot(\"event_type\", ['CLICKED', 'CREATED', 'OPEN', 'RECEIVED', 'SENT']) \\\n",
        "              .agg(count(\"*\"))\n",
        "\n",
        "report1.show(3)\n",
        "\n"
      ]
    },
    {
      "cell_type": "markdown",
      "metadata": {
        "id": "bxwOawo2lwQH"
      },
      "source": [
        "## Report 2\n",
        "\n",
        "- Identify the most active users by channel (sorted by number of iterations)\n",
        "- schema expected:\n",
        "\n",
        "```\n",
        "+-------+----------+----+-----+-----+----+---+\n",
        "|user_id|iterations|CHAT|EMAIL|OTHER|PUSH|SMS|\n",
        "+-------+----------+----+-----+-----+----+---+\n",
        "|   1022|         5|   2|    0|    1|   0|  2|\n",
        "|   1004|         4|   1|    1|    1|   1|  0|\n",
        "|   1013|         4|   0|    0|    2|   1|  1|\n",
        "|   1020|         4|   2|    0|    1|   1|  0|\n",
        "```\n"
      ]
    },
    {
      "cell_type": "code",
      "execution_count": 35,
      "metadata": {
        "id": "rsS7bkAJmWsW",
        "outputId": "087b0735-0ddf-448b-e5fe-6e49d26cc138",
        "colab": {
          "base_uri": "https://localhost:8080/"
        }
      },
      "outputs": [
        {
          "output_type": "stream",
          "name": "stdout",
          "text": [
            "+-------+----------+----+-----+-----+----+---+\n",
            "|user_id|iterations|CHAT|EMAIL|OTHER|PUSH|SMS|\n",
            "+-------+----------+----+-----+-----+----+---+\n",
            "|   1028|         6|   1|    2|    2|   0|  1|\n",
            "|   1033|         6|   1|    1|    3|   0|  1|\n",
            "|   1034|         5|   1|    0|    1|   1|  2|\n",
            "|   1005|         5|   1|    2|    1|   1|  0|\n",
            "+-------+----------+----+-----+-----+----+---+\n",
            "only showing top 4 rows\n",
            "\n"
          ]
        }
      ],
      "source": [
        "# report 2\n",
        "\n",
        "from pyspark.sql.functions import col, count, sum\n",
        "\n",
        "# First, group the data by user_id to analyze activity by each user\n",
        "# Then I calculate the total number of interactions for each user by coutining how many times each chanel is used\n",
        "# and tehn we sum all counts for that channel and for that user id\n",
        "# Finally, sort the results by the total number of interactions in descending order so we can easily see which users are the most active.\n",
        "\n",
        "report2 = dedup \\\n",
        "    .groupBy(\"user_id\") \\\n",
        "    .agg(count(\"*\").alias(\"iterations\"),\n",
        "         sum(F.when(col(\"channel\") == \"CHAT\", 1).otherwise(0)).alias(\"CHAT\"),\n",
        "         sum(F.when(col(\"channel\") == \"EMAIL\", 1).otherwise(0)).alias(\"EMAIL\"),\n",
        "         sum(F.when(col(\"channel\") == \"OTHER\", 1).otherwise(0)).alias(\"OTHER\"),\n",
        "         sum(F.when(col(\"channel\") == \"PUSH\", 1).otherwise(0)).alias(\"PUSH\"),\n",
        "         sum(F.when(col(\"channel\") == \"SMS\", 1).otherwise(0)).alias(\"SMS\")) \\\n",
        "    .orderBy(col(\"iterations\").desc())\n",
        "\n",
        "report2.show(4)\n"
      ]
    },
    {
      "cell_type": "markdown",
      "metadata": {
        "id": "a9_kzDbDwDOS"
      },
      "source": [
        "# Challenge 3"
      ]
    },
    {
      "cell_type": "code",
      "execution_count": null,
      "metadata": {
        "id": "Ef0RjFTxwE5y"
      },
      "outputs": [],
      "source": [
        "# Theoretical question:\n",
        "\n",
        "# A new usecase requires the message data to be aggregate in near real time\n",
        "# They want to build a dashboard embedded in the platform website to analyze message data in low latency (few minutes)\n",
        "# This application will access directly the data aggregated by streaming process\n",
        "\n",
        "# Q1:\n",
        "- What would be your suggestion to achieve that using Spark Structure Streaming?\n",
        "Or would you choose a different data processing tool?\n",
        "\n",
        "- Which storage would you use and why? (database?, data lake?, kafka?)\n",
        "\n",
        "\"\"\"\n",
        "R: For this use case, Spark Structured Streaming is a strong contender due to its ability to handle low-latency processing, a key requirement here.\n",
        "However, Spark's strengths lie in its processing capabilities, not necessarily in direct data ingestion or output.\n",
        "Therefore, a more robust solution would involve using Spark alongside a message broker like Kafka, Pub/Sub, or Kinesis for efficient and low-latency data ingestion.\n",
        "\n",
        "Once Spark processes the data, the aggregated results need to be stored in a system optimized for frequent,\n",
        "low-latency queries by the dashboard. Options include databases like Cassandra or MongoDB, or data lakes designed for fast reads like Delta Lake should be a good option.\n",
        "\n",
        "\"\"\"\n",
        "\n"
      ]
    }
  ],
  "metadata": {
    "colab": {
      "provenance": [],
      "include_colab_link": true
    },
    "kernelspec": {
      "display_name": "Python 3",
      "name": "python3"
    },
    "language_info": {
      "name": "python"
    }
  },
  "nbformat": 4,
  "nbformat_minor": 0
}