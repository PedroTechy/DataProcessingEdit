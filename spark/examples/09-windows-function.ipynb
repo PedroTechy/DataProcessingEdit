{
  "cells": [
    {
      "cell_type": "markdown",
      "metadata": {
        "id": "view-in-github",
        "colab_type": "text"
      },
      "source": [
        "<a href=\"https://colab.research.google.com/github/PedroTechy/DataProcessingEdit/blob/main/spark/examples/09-windows-function.ipynb\" target=\"_parent\"><img src=\"https://colab.research.google.com/assets/colab-badge.svg\" alt=\"Open In Colab\"/></a>"
      ]
    },
    {
      "cell_type": "markdown",
      "metadata": {
        "id": "BOA_wQSmLd9z"
      },
      "source": [
        "# Windows Function\n",
        "- Window functions operate on a group of rows, referred to as a window, and calculate a return value for each row based on the group of rows.\n",
        "- Window functions are useful for processing tasks such as calculating a moving average, computing a cumulative statistic, or accessing the value of rows given the relative position of the current row."
      ]
    },
    {
      "cell_type": "markdown",
      "metadata": {
        "id": "d9LeYFsPTjAb"
      },
      "source": [
        "# Setting up PySpark"
      ]
    },
    {
      "cell_type": "code",
      "execution_count": 1,
      "metadata": {
        "colab": {
          "base_uri": "https://localhost:8080/"
        },
        "id": "uYXeODL0T1fO",
        "outputId": "086b8636-0669-4acd-e0a0-3986f9875822"
      },
      "outputs": [
        {
          "output_type": "stream",
          "name": "stdout",
          "text": [
            "Requirement already satisfied: pyspark in /usr/local/lib/python3.10/dist-packages (3.5.3)\n",
            "Requirement already satisfied: py4j==0.10.9.7 in /usr/local/lib/python3.10/dist-packages (from pyspark) (0.10.9.7)\n"
          ]
        }
      ],
      "source": [
        "%pip install pyspark"
      ]
    },
    {
      "cell_type": "code",
      "execution_count": 2,
      "metadata": {
        "id": "637HFw00T3LP"
      },
      "outputs": [],
      "source": [
        "from pyspark.sql import SparkSession\n",
        "spark = SparkSession.builder.master('local').appName('Spark Course').config('spark.ui.port', '4050').getOrCreate()"
      ]
    },
    {
      "cell_type": "markdown",
      "metadata": {
        "id": "9BRgjNQbOKE0"
      },
      "source": [
        "# Windows Function"
      ]
    },
    {
      "cell_type": "code",
      "execution_count": 3,
      "metadata": {
        "colab": {
          "base_uri": "https://localhost:8080/"
        },
        "id": "fZzWrJbROKE0",
        "outputId": "93e7e88a-3ee2-46f0-dcf6-ff2947c6e096"
      },
      "outputs": [
        {
          "output_type": "stream",
          "name": "stdout",
          "text": [
            "+-----+-----------+------+---+\n",
            "| name|       dept|salary|age|\n",
            "+-----+-----------+------+---+\n",
            "| Lisa|      Sales| 10000| 35|\n",
            "| Evan|      Sales| 32000| 38|\n",
            "| Fred|Engineering| 21000| 28|\n",
            "| Alex|      Sales| 30000| 33|\n",
            "|  Tom|Engineering| 23000| 33|\n",
            "| Jane|  Marketing| 29000| 28|\n",
            "| Jeff|  Marketing| 35000| 38|\n",
            "| Paul|Engineering| 29000| 23|\n",
            "|Chloe|Engineering| 23000| 25|\n",
            "+-----+-----------+------+---+\n",
            "\n"
          ]
        }
      ],
      "source": [
        "# using inline table to prepare the data\n",
        "\n",
        "qry = \"\"\"CREATE OR REPLACE TEMPORARY VIEW employees AS SELECT * FROM VALUES(\"Lisa\", \"Sales\", 10000, 35),\n",
        "(\"Evan\", \"Sales\", 32000, 38),\n",
        "(\"Fred\", \"Engineering\", 21000, 28),\n",
        "(\"Alex\", \"Sales\", 30000, 33),\n",
        "(\"Tom\", \"Engineering\", 23000, 33),\n",
        "(\"Jane\", \"Marketing\", 29000, 28),\n",
        "(\"Jeff\", \"Marketing\", 35000, 38),\n",
        "(\"Paul\", \"Engineering\", 29000, 23),\n",
        "(\"Chloe\", \"Engineering\", 23000, 25)\n",
        "AS employees(name, dept, salary, age)\"\"\"\n",
        "\n",
        "spark.sql(qry)\n",
        "spark.table(\"employees\").show()"
      ]
    },
    {
      "cell_type": "code",
      "execution_count": 4,
      "metadata": {
        "colab": {
          "base_uri": "https://localhost:8080/"
        },
        "id": "o0JtIU70Pgoq",
        "outputId": "ad1372b8-3026-4465-d677-20c6226c66bf"
      },
      "outputs": [
        {
          "output_type": "stream",
          "name": "stdout",
          "text": [
            "+-----+-----------+------+----------+\n",
            "| name|       dept|salary|dense_rank|\n",
            "+-----+-----------+------+----------+\n",
            "| Fred|Engineering| 21000|         1|\n",
            "|  Tom|Engineering| 23000|         2|\n",
            "|Chloe|Engineering| 23000|         2|\n",
            "| Paul|Engineering| 29000|         3|\n",
            "| Jane|  Marketing| 29000|         1|\n",
            "| Jeff|  Marketing| 35000|         2|\n",
            "| Lisa|      Sales| 10000|         1|\n",
            "| Alex|      Sales| 30000|         2|\n",
            "| Evan|      Sales| 32000|         3|\n",
            "+-----+-----------+------+----------+\n",
            "\n"
          ]
        }
      ],
      "source": [
        "# calculate dense_rank on salary\n",
        "qry1 = \"\"\"SELECT name, dept, salary, DENSE_RANK() OVER (PARTITION BY dept ORDER BY salary ROWS BETWEEN\n",
        "    UNBOUNDED PRECEDING AND CURRENT ROW) AS dense_rank FROM employees;\"\"\"\n",
        "\n",
        "spark.sql(qry1).show()"
      ]
    },
    {
      "cell_type": "code",
      "execution_count": 8,
      "metadata": {
        "colab": {
          "base_uri": "https://localhost:8080/"
        },
        "id": "mE58WtSzRsg9",
        "outputId": "dd9e4dc2-de91-4ab5-ab13-313644284c23"
      },
      "outputs": [
        {
          "output_type": "stream",
          "name": "stdout",
          "text": [
            "+-----+-----------+------+-----+----------+\n",
            "| name|       dept|salary|  min|min_salary|\n",
            "+-----+-----------+------+-----+----------+\n",
            "| Fred|Engineering| 21000|21000|      true|\n",
            "|  Tom|Engineering| 23000|21000|     false|\n",
            "|Chloe|Engineering| 23000|21000|     false|\n",
            "| Paul|Engineering| 29000|21000|     false|\n",
            "| Jane|  Marketing| 29000|29000|      true|\n",
            "| Jeff|  Marketing| 35000|29000|     false|\n",
            "| Lisa|      Sales| 10000|10000|      true|\n",
            "| Alex|      Sales| 30000|10000|     false|\n",
            "| Evan|      Sales| 32000|10000|     false|\n",
            "+-----+-----------+------+-----+----------+\n",
            "\n"
          ]
        }
      ],
      "source": [
        "# calculate min salary by dept\n",
        "qry2 = \"\"\"SELECT name, dept, salary, MIN(salary) OVER (PARTITION BY dept ORDER BY salary) AS min,\n",
        "    CASE WHEN salary=min THEN True ELSE False END as min_salary\n",
        "    FROM employees;\"\"\"\n",
        "\n",
        "spark.sql(qry2).show()"
      ]
    },
    {
      "cell_type": "code",
      "execution_count": 31,
      "metadata": {
        "colab": {
          "base_uri": "https://localhost:8080/"
        },
        "id": "FBohSBV4Sfkb",
        "outputId": "2ce2e482-102f-4526-885d-c8faad981c17"
      },
      "outputs": [
        {
          "output_type": "stream",
          "name": "stdout",
          "text": [
            "+-----+-----------+------+---+-----+------+\n",
            "| name|       dept|salary|age|  min|is_min|\n",
            "+-----+-----------+------+---+-----+------+\n",
            "| Fred|Engineering| 21000| 28|21000|  true|\n",
            "|  Tom|Engineering| 23000| 33|21000| false|\n",
            "|Chloe|Engineering| 23000| 25|21000| false|\n",
            "| Paul|Engineering| 29000| 23|21000| false|\n",
            "| Jane|  Marketing| 29000| 28|29000|  true|\n",
            "| Jeff|  Marketing| 35000| 38|29000| false|\n",
            "| Lisa|      Sales| 10000| 35|10000|  true|\n",
            "| Alex|      Sales| 30000| 33|10000| false|\n",
            "| Evan|      Sales| 32000| 38|10000| false|\n",
            "+-----+-----------+------+---+-----+------+\n",
            "\n"
          ]
        }
      ],
      "source": [
        "# same logic but using dataframes\n",
        "from pyspark.sql.functions import *\n",
        "from pyspark.sql.window import Window\n",
        "\n",
        "df = spark.table(\"employees\")\n",
        "windowSpec = Window.partitionBy(\"dept\").orderBy(\"salary\")\n",
        "\n",
        "df = df.withColumn(\"min\", min(\"salary\").over(windowSpec))\n",
        "df = df.withColumn(\"is_min\", when( col(\"salary\") == col(\"min\"), lit(\"true\")).otherwise(lit(\"false\")) )\n",
        "df.show()"
      ]
    },
    {
      "cell_type": "markdown",
      "metadata": {
        "id": "8KnCXs19UXDw"
      },
      "source": [
        "# Question"
      ]
    },
    {
      "cell_type": "code",
      "execution_count": 32,
      "metadata": {
        "id": "NM33rISwSybn",
        "outputId": "d5f34a75-60a3-4818-db72-865bd0be49d1",
        "colab": {
          "base_uri": "https://localhost:8080/"
        }
      },
      "outputs": [
        {
          "output_type": "stream",
          "name": "stdout",
          "text": [
            "+-----+-----------+------+---+-----+-------------------+--------------+----------------------+\n",
            "| name|       dept|salary|age|  max|highest_salary_dept|max_of_company|highest_salary_company|\n",
            "+-----+-----------+------+---+-----+-------------------+--------------+----------------------+\n",
            "| Fred|Engineering| 21000| 28|29000|              false|         35000|                 false|\n",
            "|  Tom|Engineering| 23000| 33|29000|              false|         35000|                 false|\n",
            "| Paul|Engineering| 29000| 23|29000|               true|         35000|                 false|\n",
            "|Chloe|Engineering| 23000| 25|29000|              false|         35000|                 false|\n",
            "| Jane|  Marketing| 29000| 28|35000|              false|         35000|                 false|\n",
            "| Jeff|  Marketing| 35000| 38|35000|               true|         35000|                  true|\n",
            "| Lisa|      Sales| 10000| 35|32000|              false|         35000|                 false|\n",
            "| Evan|      Sales| 32000| 38|32000|               true|         35000|                 false|\n",
            "| Alex|      Sales| 30000| 33|32000|              false|         35000|                 false|\n",
            "+-----+-----------+------+---+-----+-------------------+--------------+----------------------+\n",
            "\n"
          ]
        }
      ],
      "source": [
        "# Q1\n",
        "# Use windows functions to identify the higher salary by dept\n",
        "# Create new column \"highest_salary_dept\" and assign TRUE/FALSE accordingly\n",
        "# Identify the high salary of the company (including all the dept)\n",
        "# Create new column \"highest_salary_company\" and assign TRUE/FALSE accordingly\n",
        "\n",
        "\n",
        "df = spark.table(\"employees\")\n",
        "windowSpec = Window.partitionBy(\"dept\") #.orderBy(\"salary\")\n",
        "\n",
        "windowSpec2 = Window.partitionBy()\n",
        "\n",
        "\n",
        "df = df.withColumn(\"max\", max(\"salary\").over(windowSpec))\n",
        "\n",
        "df = df.withColumn(\"highest_salary_dept\", when( col(\"salary\") == col(\"max\"), lit(\"true\")).otherwise(lit(\"false\")) )\n",
        "\n",
        "df = df.withColumn(\"max_of_company\", max(\"salary\").over(windowSpec2))\n",
        "\n",
        "df = df.withColumn(\"highest_salary_company\", when( col(\"salary\") == col(\"max_of_company\"), lit(\"true\")).otherwise(lit(\"false\")) )\n",
        "\n",
        "df.show()"
      ]
    },
    {
      "cell_type": "code",
      "source": [],
      "metadata": {
        "id": "fz49xdw8aDwb"
      },
      "execution_count": null,
      "outputs": []
    }
  ],
  "metadata": {
    "colab": {
      "provenance": [],
      "include_colab_link": true
    },
    "kernelspec": {
      "display_name": "Python 3",
      "name": "python3"
    },
    "language_info": {
      "name": "python"
    }
  },
  "nbformat": 4,
  "nbformat_minor": 0
}